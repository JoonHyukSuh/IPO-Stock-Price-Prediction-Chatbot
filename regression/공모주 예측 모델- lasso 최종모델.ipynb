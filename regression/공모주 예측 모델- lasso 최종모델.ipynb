{
 "cells": [
  {
   "cell_type": "code",
   "execution_count": 1,
   "metadata": {
    "id": "5mRpDh69dDld"
   },
   "outputs": [],
   "source": [
    "import pandas as pd\n",
    "import numpy as np\n",
    "import seaborn as sns\n",
    "from sklearn import preprocessing\n",
    "import matplotlib.pyplot as plt\n",
    "%matplotlib inline"
   ]
  },
  {
   "cell_type": "code",
   "execution_count": 2,
   "metadata": {
    "id": "San70JGYdDlk",
    "outputId": "f859c376-eb75-4245-b2f7-a3c0ac15a901"
   },
   "outputs": [
    {
     "data": {
      "text/html": [
       "<div>\n",
       "<style scoped>\n",
       "    .dataframe tbody tr th:only-of-type {\n",
       "        vertical-align: middle;\n",
       "    }\n",
       "\n",
       "    .dataframe tbody tr th {\n",
       "        vertical-align: top;\n",
       "    }\n",
       "\n",
       "    .dataframe thead th {\n",
       "        text-align: right;\n",
       "    }\n",
       "</style>\n",
       "<table border=\"1\" class=\"dataframe\">\n",
       "  <thead>\n",
       "    <tr style=\"text-align: right;\">\n",
       "      <th></th>\n",
       "      <th>Unnamed: 0</th>\n",
       "      <th>기업명</th>\n",
       "      <th>매출액(백만원)</th>\n",
       "      <th>순이익(백만원)</th>\n",
       "      <th>구주매출</th>\n",
       "      <th>희망공모가(최저)</th>\n",
       "      <th>희망공모가(최고)</th>\n",
       "      <th>청약경쟁률(:1)</th>\n",
       "      <th>확정공모가(원)</th>\n",
       "      <th>경쟁률(:1)</th>\n",
       "      <th>의무보유확약(:1)</th>\n",
       "      <th>시초/공모%(수익률)</th>\n",
       "      <th>공모가(원)</th>\n",
       "      <th>시초가(원)</th>\n",
       "      <th>상장일</th>\n",
       "    </tr>\n",
       "  </thead>\n",
       "  <tbody>\n",
       "    <tr>\n",
       "      <th>0</th>\n",
       "      <td>0</td>\n",
       "      <td>에이치피에스피</td>\n",
       "      <td>61174.0</td>\n",
       "      <td>17658.0</td>\n",
       "      <td>1.00</td>\n",
       "      <td>23000.0</td>\n",
       "      <td>25000.0</td>\n",
       "      <td>1159.05</td>\n",
       "      <td>25000</td>\n",
       "      <td>1511.36</td>\n",
       "      <td>42.54</td>\n",
       "      <td>100.00</td>\n",
       "      <td>25000</td>\n",
       "      <td>50000</td>\n",
       "      <td>20220715</td>\n",
       "    </tr>\n",
       "    <tr>\n",
       "      <th>1</th>\n",
       "      <td>1</td>\n",
       "      <td>영창케미칼</td>\n",
       "      <td>60760.0</td>\n",
       "      <td>2506.0</td>\n",
       "      <td>0.83</td>\n",
       "      <td>15000.0</td>\n",
       "      <td>18600.0</td>\n",
       "      <td>682.13</td>\n",
       "      <td>18600</td>\n",
       "      <td>1616.27</td>\n",
       "      <td>5.92</td>\n",
       "      <td>-1.08</td>\n",
       "      <td>18600</td>\n",
       "      <td>18400</td>\n",
       "      <td>20220714</td>\n",
       "    </tr>\n",
       "    <tr>\n",
       "      <th>2</th>\n",
       "      <td>2</td>\n",
       "      <td>넥스트칩</td>\n",
       "      <td>10383.0</td>\n",
       "      <td>-13496.0</td>\n",
       "      <td>1.00</td>\n",
       "      <td>9900.0</td>\n",
       "      <td>11600.0</td>\n",
       "      <td>1727.38</td>\n",
       "      <td>13000</td>\n",
       "      <td>1623.41</td>\n",
       "      <td>11.58</td>\n",
       "      <td>31.92</td>\n",
       "      <td>13000</td>\n",
       "      <td>17150</td>\n",
       "      <td>20220701</td>\n",
       "    </tr>\n",
       "    <tr>\n",
       "      <th>3</th>\n",
       "      <td>3</td>\n",
       "      <td>위니아에이드</td>\n",
       "      <td>418527.0</td>\n",
       "      <td>24895.0</td>\n",
       "      <td>1.00</td>\n",
       "      <td>14200.0</td>\n",
       "      <td>16200.0</td>\n",
       "      <td>111.26</td>\n",
       "      <td>16200</td>\n",
       "      <td>955.00</td>\n",
       "      <td>1.39</td>\n",
       "      <td>-9.88</td>\n",
       "      <td>16200</td>\n",
       "      <td>14600</td>\n",
       "      <td>20220623</td>\n",
       "    </tr>\n",
       "    <tr>\n",
       "      <th>4</th>\n",
       "      <td>4</td>\n",
       "      <td>레이저쎌</td>\n",
       "      <td>3879.0</td>\n",
       "      <td>-7665.0</td>\n",
       "      <td>1.00</td>\n",
       "      <td>12000.0</td>\n",
       "      <td>14000.0</td>\n",
       "      <td>1845.11</td>\n",
       "      <td>16000</td>\n",
       "      <td>1442.95</td>\n",
       "      <td>12.43</td>\n",
       "      <td>28.75</td>\n",
       "      <td>16000</td>\n",
       "      <td>20600</td>\n",
       "      <td>20220624</td>\n",
       "    </tr>\n",
       "  </tbody>\n",
       "</table>\n",
       "</div>"
      ],
      "text/plain": [
       "   Unnamed: 0      기업명  매출액(백만원)  순이익(백만원)  구주매출  희망공모가(최저)  희망공모가(최고)  \\\n",
       "0           0  에이치피에스피   61174.0   17658.0  1.00    23000.0    25000.0   \n",
       "1           1    영창케미칼   60760.0    2506.0  0.83    15000.0    18600.0   \n",
       "2           2     넥스트칩   10383.0  -13496.0  1.00     9900.0    11600.0   \n",
       "3           3   위니아에이드  418527.0   24895.0  1.00    14200.0    16200.0   \n",
       "4           4     레이저쎌    3879.0   -7665.0  1.00    12000.0    14000.0   \n",
       "\n",
       "   청약경쟁률(:1)  확정공모가(원)  경쟁률(:1)  의무보유확약(:1)  시초/공모%(수익률)  공모가(원)  시초가(원)  \\\n",
       "0    1159.05     25000  1511.36       42.54       100.00   25000   50000   \n",
       "1     682.13     18600  1616.27        5.92        -1.08   18600   18400   \n",
       "2    1727.38     13000  1623.41       11.58        31.92   13000   17150   \n",
       "3     111.26     16200   955.00        1.39        -9.88   16200   14600   \n",
       "4    1845.11     16000  1442.95       12.43        28.75   16000   20600   \n",
       "\n",
       "        상장일  \n",
       "0  20220715  \n",
       "1  20220714  \n",
       "2  20220701  \n",
       "3  20220623  \n",
       "4  20220624  "
      ]
     },
     "execution_count": 2,
     "metadata": {},
     "output_type": "execute_result"
    }
   ],
   "source": [
    "data1 = pd.read_csv('refined_data.csv')\n",
    "data1.head()"
   ]
  },
  {
   "cell_type": "code",
   "execution_count": 3,
   "metadata": {
    "id": "mvl2YPXkdDlp"
   },
   "outputs": [],
   "source": [
    "from sklearn.model_selection import train_test_split\n",
    "x= data1[[\"희망공모가(최고)\",\"청약경쟁률(:1)\",\"확정공모가(원)\",\"경쟁률(:1)\",\"의무보유확약(:1)\"]]\n",
    "y= data1[\"시초/공모%(수익률)\"]"
   ]
  },
  {
   "cell_type": "code",
   "execution_count": 4,
   "metadata": {},
   "outputs": [],
   "source": [
    "x_train, x_test,y_train,y_test = train_test_split(x, y, train_size=0.8,test_size=0.2,random_state = 1)\n",
    "#8:2의 비율로 training, test set 분리"
   ]
  },
  {
   "cell_type": "code",
   "execution_count": 5,
   "metadata": {},
   "outputs": [
    {
     "name": "stdout",
     "output_type": "stream",
     "text": [
      "(316, 5)\n",
      "(80, 5)\n",
      "174      5.31\n",
      "358     78.57\n",
      "249    100.00\n",
      "273      9.03\n",
      "339      9.52\n",
      "        ...  \n",
      "146     73.53\n",
      "287      0.42\n",
      "222     24.17\n",
      "159     81.56\n",
      "23     100.00\n",
      "Name: 시초/공모%(수익률), Length: 80, dtype: float64\n"
     ]
    }
   ],
   "source": [
    "print(x_train.shape)\n",
    "print(x_test.shape)\n",
    "print(y_test)"
   ]
  },
  {
   "cell_type": "code",
   "execution_count": null,
   "metadata": {},
   "outputs": [],
   "source": [
    "#pip install xgboost"
   ]
  },
  {
   "cell_type": "code",
   "execution_count": 6,
   "metadata": {},
   "outputs": [],
   "source": [
    "from sklearn.linear_model import LinearRegression, Ridge, Lasso, ElasticNet\n",
    "from sklearn.linear_model import LassoCV , ElasticNetCV , RidgeCV\n",
    "from sklearn.preprocessing import PolynomialFeatures\n",
    "from sklearn.decomposition import PCA \n",
    "from sklearn.metrics import mean_squared_error as mse\n",
    "from sklearn.metrics import r2_score as r2\n",
    "from sklearn.model_selection import cross_val_score\n",
    "from sklearn.ensemble import GradientBoostingRegressor as GBR\n",
    "from sklearn.ensemble import RandomForestRegressor as RFR\n",
    "from sklearn.cross_decomposition import PLSRegression as  PLS\n",
    "from sklearn.svm import SVR\n",
    "from sklearn.kernel_ridge import KernelRidge\n",
    "from sklearn.model_selection import ShuffleSplit\n",
    "from sklearn.pipeline import Pipeline\n",
    "from sklearn.preprocessing import StandardScaler\n",
    "from sklearn.preprocessing import MinMaxScaler\n",
    "from sklearn.model_selection import GridSearchCV"
   ]
  },
  {
   "cell_type": "code",
   "execution_count": 7,
   "metadata": {},
   "outputs": [
    {
     "name": "stderr",
     "output_type": "stream",
     "text": [
      "c:\\Users\\Joon Hyuk Suh\\AppData\\Local\\Programs\\Python\\Python38\\lib\\site-packages\\sklearn\\model_selection\\_validation.py:378: FitFailedWarning: \n",
      "10 fits failed out of a total of 30.\n",
      "The score on these train-test partitions for these parameters will be set to nan.\n",
      "If these failures are not expected, you can try to debug them by setting error_score='raise'.\n",
      "\n",
      "Below are more details about the failures:\n",
      "--------------------------------------------------------------------------------\n",
      "5 fits failed with the following error:\n",
      "Traceback (most recent call last):\n",
      "  File \"c:\\Users\\Joon Hyuk Suh\\AppData\\Local\\Programs\\Python\\Python38\\lib\\site-packages\\sklearn\\model_selection\\_validation.py\", line 686, in _fit_and_score\n",
      "    estimator.fit(X_train, y_train, **fit_params)\n",
      "  File \"c:\\Users\\Joon Hyuk Suh\\AppData\\Local\\Programs\\Python\\Python38\\lib\\site-packages\\sklearn\\pipeline.py\", line 378, in fit\n",
      "    Xt = self._fit(X, y, **fit_params_steps)\n",
      "  File \"c:\\Users\\Joon Hyuk Suh\\AppData\\Local\\Programs\\Python\\Python38\\lib\\site-packages\\sklearn\\pipeline.py\", line 336, in _fit\n",
      "    X, fitted_transformer = fit_transform_one_cached(\n",
      "  File \"c:\\Users\\Joon Hyuk Suh\\AppData\\Local\\Programs\\Python\\Python38\\lib\\site-packages\\joblib\\memory.py\", line 349, in __call__\n",
      "    return self.func(*args, **kwargs)\n",
      "  File \"c:\\Users\\Joon Hyuk Suh\\AppData\\Local\\Programs\\Python\\Python38\\lib\\site-packages\\sklearn\\pipeline.py\", line 870, in _fit_transform_one\n",
      "    res = transformer.fit_transform(X, y, **fit_params)\n",
      "  File \"c:\\Users\\Joon Hyuk Suh\\AppData\\Local\\Programs\\Python\\Python38\\lib\\site-packages\\sklearn\\decomposition\\_pca.py\", line 433, in fit_transform\n",
      "    U, S, Vt = self._fit(X)\n",
      "  File \"c:\\Users\\Joon Hyuk Suh\\AppData\\Local\\Programs\\Python\\Python38\\lib\\site-packages\\sklearn\\decomposition\\_pca.py\", line 483, in _fit\n",
      "    return self._fit_full(X, n_components)\n",
      "  File \"c:\\Users\\Joon Hyuk Suh\\AppData\\Local\\Programs\\Python\\Python38\\lib\\site-packages\\sklearn\\decomposition\\_pca.py\", line 501, in _fit_full\n",
      "    raise ValueError(\n",
      "ValueError: n_components=6 must be between 0 and min(n_samples, n_features)=5 with svd_solver='full'\n",
      "\n",
      "--------------------------------------------------------------------------------\n",
      "5 fits failed with the following error:\n",
      "Traceback (most recent call last):\n",
      "  File \"c:\\Users\\Joon Hyuk Suh\\AppData\\Local\\Programs\\Python\\Python38\\lib\\site-packages\\sklearn\\model_selection\\_validation.py\", line 686, in _fit_and_score\n",
      "    estimator.fit(X_train, y_train, **fit_params)\n",
      "  File \"c:\\Users\\Joon Hyuk Suh\\AppData\\Local\\Programs\\Python\\Python38\\lib\\site-packages\\sklearn\\pipeline.py\", line 378, in fit\n",
      "    Xt = self._fit(X, y, **fit_params_steps)\n",
      "  File \"c:\\Users\\Joon Hyuk Suh\\AppData\\Local\\Programs\\Python\\Python38\\lib\\site-packages\\sklearn\\pipeline.py\", line 336, in _fit\n",
      "    X, fitted_transformer = fit_transform_one_cached(\n",
      "  File \"c:\\Users\\Joon Hyuk Suh\\AppData\\Local\\Programs\\Python\\Python38\\lib\\site-packages\\joblib\\memory.py\", line 349, in __call__\n",
      "    return self.func(*args, **kwargs)\n",
      "  File \"c:\\Users\\Joon Hyuk Suh\\AppData\\Local\\Programs\\Python\\Python38\\lib\\site-packages\\sklearn\\pipeline.py\", line 870, in _fit_transform_one\n",
      "    res = transformer.fit_transform(X, y, **fit_params)\n",
      "  File \"c:\\Users\\Joon Hyuk Suh\\AppData\\Local\\Programs\\Python\\Python38\\lib\\site-packages\\sklearn\\decomposition\\_pca.py\", line 433, in fit_transform\n",
      "    U, S, Vt = self._fit(X)\n",
      "  File \"c:\\Users\\Joon Hyuk Suh\\AppData\\Local\\Programs\\Python\\Python38\\lib\\site-packages\\sklearn\\decomposition\\_pca.py\", line 483, in _fit\n",
      "    return self._fit_full(X, n_components)\n",
      "  File \"c:\\Users\\Joon Hyuk Suh\\AppData\\Local\\Programs\\Python\\Python38\\lib\\site-packages\\sklearn\\decomposition\\_pca.py\", line 501, in _fit_full\n",
      "    raise ValueError(\n",
      "ValueError: n_components=7 must be between 0 and min(n_samples, n_features)=5 with svd_solver='full'\n",
      "\n",
      "  warnings.warn(some_fits_failed_message, FitFailedWarning)\n",
      "c:\\Users\\Joon Hyuk Suh\\AppData\\Local\\Programs\\Python\\Python38\\lib\\site-packages\\sklearn\\model_selection\\_search.py:953: UserWarning: One or more of the test scores are non-finite: [-971.18321694 -918.94204456 -869.06026785 -857.67187024           nan\n",
      "           nan]\n",
      "  warnings.warn(\n",
      "c:\\Users\\Joon Hyuk Suh\\AppData\\Local\\Programs\\Python\\Python38\\lib\\site-packages\\sklearn\\model_selection\\_validation.py:378: FitFailedWarning: \n",
      "10 fits failed out of a total of 30.\n",
      "The score on these train-test partitions for these parameters will be set to nan.\n",
      "If these failures are not expected, you can try to debug them by setting error_score='raise'.\n",
      "\n",
      "Below are more details about the failures:\n",
      "--------------------------------------------------------------------------------\n",
      "5 fits failed with the following error:\n",
      "Traceback (most recent call last):\n",
      "  File \"c:\\Users\\Joon Hyuk Suh\\AppData\\Local\\Programs\\Python\\Python38\\lib\\site-packages\\sklearn\\model_selection\\_validation.py\", line 686, in _fit_and_score\n",
      "    estimator.fit(X_train, y_train, **fit_params)\n",
      "  File \"c:\\Users\\Joon Hyuk Suh\\AppData\\Local\\Programs\\Python\\Python38\\lib\\site-packages\\sklearn\\pipeline.py\", line 382, in fit\n",
      "    self._final_estimator.fit(Xt, y, **fit_params_last_step)\n",
      "  File \"c:\\Users\\Joon Hyuk Suh\\AppData\\Local\\Programs\\Python\\Python38\\lib\\site-packages\\sklearn\\cross_decomposition\\_pls.py\", line 660, in fit\n",
      "    super().fit(X, Y)\n",
      "  File \"c:\\Users\\Joon Hyuk Suh\\AppData\\Local\\Programs\\Python\\Python38\\lib\\site-packages\\sklearn\\cross_decomposition\\_pls.py\", line 236, in fit\n",
      "    check_scalar(\n",
      "  File \"c:\\Users\\Joon Hyuk Suh\\AppData\\Local\\Programs\\Python\\Python38\\lib\\site-packages\\sklearn\\utils\\validation.py\", line 1489, in check_scalar\n",
      "    raise ValueError(\n",
      "ValueError: n_components == 6, must be <= 5.\n",
      "\n",
      "--------------------------------------------------------------------------------\n",
      "5 fits failed with the following error:\n",
      "Traceback (most recent call last):\n",
      "  File \"c:\\Users\\Joon Hyuk Suh\\AppData\\Local\\Programs\\Python\\Python38\\lib\\site-packages\\sklearn\\model_selection\\_validation.py\", line 686, in _fit_and_score\n",
      "    estimator.fit(X_train, y_train, **fit_params)\n",
      "  File \"c:\\Users\\Joon Hyuk Suh\\AppData\\Local\\Programs\\Python\\Python38\\lib\\site-packages\\sklearn\\pipeline.py\", line 382, in fit\n",
      "    self._final_estimator.fit(Xt, y, **fit_params_last_step)\n",
      "  File \"c:\\Users\\Joon Hyuk Suh\\AppData\\Local\\Programs\\Python\\Python38\\lib\\site-packages\\sklearn\\cross_decomposition\\_pls.py\", line 660, in fit\n",
      "    super().fit(X, Y)\n",
      "  File \"c:\\Users\\Joon Hyuk Suh\\AppData\\Local\\Programs\\Python\\Python38\\lib\\site-packages\\sklearn\\cross_decomposition\\_pls.py\", line 236, in fit\n",
      "    check_scalar(\n",
      "  File \"c:\\Users\\Joon Hyuk Suh\\AppData\\Local\\Programs\\Python\\Python38\\lib\\site-packages\\sklearn\\utils\\validation.py\", line 1489, in check_scalar\n",
      "    raise ValueError(\n",
      "ValueError: n_components == 7, must be <= 5.\n",
      "\n",
      "  warnings.warn(some_fits_failed_message, FitFailedWarning)\n",
      "c:\\Users\\Joon Hyuk Suh\\AppData\\Local\\Programs\\Python\\Python38\\lib\\site-packages\\sklearn\\model_selection\\_search.py:953: UserWarning: One or more of the test scores are non-finite: [-834.61730491 -832.28668452 -748.34549942 -740.55460387           nan\n",
      "           nan]\n",
      "  warnings.warn(\n",
      "c:\\Users\\Joon Hyuk Suh\\AppData\\Local\\Programs\\Python\\Python38\\lib\\site-packages\\sklearn\\ensemble\\_gb.py:294: FutureWarning: The loss 'ls' was deprecated in v1.0 and will be removed in version 1.2. Use 'squared_error' which is equivalent.\n",
      "  warnings.warn(\n"
     ]
    },
    {
     "name": "stdout",
     "output_type": "stream",
     "text": [
      "finish\n"
     ]
    }
   ],
   "source": [
    "cv = ShuffleSplit(n_splits=5 , test_size=0.3, random_state=42)\n",
    "pipe_linear = Pipeline([\n",
    "                ('mms', MinMaxScaler()),\n",
    "                ('poly', PolynomialFeatures()),\n",
    "                 ('fit', LinearRegression())])\n",
    "pipe_lasso = Pipeline([\n",
    "                ('mms', MinMaxScaler()),\n",
    "                ('poly', PolynomialFeatures()),\n",
    "                 ('fit', Lasso(random_state = 42))])\n",
    "pipe_ridge = Pipeline([\n",
    "                ('mms', MinMaxScaler()),\n",
    "                ('poly', PolynomialFeatures()),\n",
    "                 ('fit', Ridge(random_state = 42))])\n",
    "pipe_pca = Pipeline([\n",
    "                ('mms', MinMaxScaler()),\n",
    "                ('pca', PCA()),\n",
    "                 ('fit', Ridge(random_state = 42))])\n",
    "pipe_pls = Pipeline([\n",
    "                ('mms', MinMaxScaler()),\n",
    "                 ('fit', PLS())])\n",
    "pipe_gbr = Pipeline([\n",
    "                ('mms', MinMaxScaler()),\n",
    "                 ('fit', GBR())])\n",
    "pipe_rfr = Pipeline([\n",
    "                ('mms', MinMaxScaler()),\n",
    "                 ('fit', RFR())])\n",
    "pipe_svr = Pipeline([\n",
    "                ('mms', MinMaxScaler()),\n",
    "                 ('fit', SVR())])\n",
    "\n",
    "pipe_KR = Pipeline([\n",
    "                ('mms', MinMaxScaler()),\n",
    "                 ('fit', KernelRidge())])\n",
    "                 \n",
    "                 \n",
    "### \n",
    "\n",
    "grid_params_linear = [{\n",
    "    \"poly__degree\" : np.arange(1,3), \n",
    "    \"fit__fit_intercept\" : [True, False], \n",
    "}]\n",
    "grid_params_lasso = [{\n",
    "    \"poly__degree\" : np.arange(1,3),\n",
    "    \"fit__tol\" : np.logspace(-5,0,10) ,\n",
    "    \"fit__alpha\" : np.logspace(-5,1,10) ,     \n",
    "                     }]\n",
    "grid_params_pca = [{\n",
    "    \"pca__n_components\" : np.arange(2,8)\n",
    "}]\n",
    "grid_params_ridge = [{\n",
    "    \"poly__degree\" : np.arange(1,3),\n",
    "    \"fit__alpha\" : np.linspace(2,5,10) ,\n",
    "    \"fit__solver\" : [ \"cholesky\",\"lsqr\",\"sparse_cg\"] ,\n",
    "    \"fit__tol\" : np.logspace(-5,0,10) ,\n",
    "                     }]\n",
    "grid_params_pls = [{\n",
    "    \"fit__n_components\" : np.arange(2,8)\n",
    "}]\n",
    "min_samples_split_range = [0.5, 0.7 , 0.9]\n",
    "\n",
    "grid_params_gbr =[{\n",
    "    \"fit__max_features\" : [\"sqrt\",\"log2\"] ,\n",
    "    \"fit__loss\" : [\"ls\",\"lad\",\"huber\",\"quantile\"] , \n",
    "    \"fit__max_depth\" : [5,6,7,8] ,\n",
    "    \"fit__min_samples_split\" : min_samples_split_range ,\n",
    "}]\n",
    "grid_params_rfr =[{\n",
    "    \"fit__max_features\" : [\"sqrt\",\"log2\"] , \n",
    "    \"fit__max_depth\" : [5,6,7,8] ,\n",
    "    \"fit__min_samples_split\" : min_samples_split_range ,\n",
    "}]\n",
    "grid_params_svr =[{\n",
    "    \"fit__kernel\" : [\"rbf\", \"linear\"] ,\n",
    "    \"fit__degree\" : [2, 3, 5] , \n",
    "    \"fit__gamma\" : np.logspace(-5,1,10) ,\n",
    "}]\n",
    "grid_params_KR =[{\n",
    "    \"fit__kernel\" : [\"rbf\",\"linear\"] , \n",
    "    \"fit__gamma\" : np.logspace(-5,1,10) ,\n",
    "}]\n",
    "pipe = [\n",
    "    pipe_linear , pipe_lasso ,  pipe_pca ,\n",
    "    pipe_ridge , pipe_pls , pipe_gbr , \n",
    "    pipe_rfr , pipe_svr , pipe_KR \n",
    "]\n",
    "\n",
    "params = [\n",
    "    grid_params_linear , grid_params_lasso , grid_params_pca,\n",
    "    grid_params_ridge , grid_params_pls , grid_params_gbr ,\n",
    "    grid_params_rfr , grid_params_svr , grid_params_KR\n",
    "]\n",
    "\n",
    "jobs = 20\n",
    "\n",
    "grid_dict = {\n",
    "    0: 'Linear', \n",
    "    1: 'Lasso', \n",
    "    2: 'pca regression' , \n",
    "    3: 'Ridge' ,\n",
    "    4: 'PLSRegression',\n",
    "    5: \"GradientDescentRegressor\" ,\n",
    "    6: \"RandomForestRegressor\" ,\n",
    "    7: \"SupportVectorRegressor\" ,\n",
    "    8: \"Kernel RidgeRegression\"\n",
    "            }\n",
    "\n",
    "model_mse = {}\n",
    "model_r2 = {}\n",
    "model_best_params = {}\n",
    "\n",
    "for idx , (param , model) in enumerate(zip(params , pipe)) :\n",
    "    search = GridSearchCV(model, param, scoring  = \"neg_mean_squared_error\" , \n",
    "                          cv=cv , n_jobs=jobs , verbose=-1 )\n",
    "    search.fit(x_train , y_train)\n",
    "    y_pred = search.predict(x_test)\n",
    "    model_mse[grid_dict.get(idx)] = mse(y_test, y_pred)  \n",
    "    model_r2[grid_dict.get(idx)] = r2(y_test, y_pred)  \n",
    "    model_best_params[grid_dict.get(idx)] = search.best_params_\n",
    "print(\"finish\")"
   ]
  },
  {
   "cell_type": "code",
   "execution_count": 8,
   "metadata": {},
   "outputs": [
    {
     "data": {
      "image/png": "[encoded data removed]",
      "text/plain": [
       "<Figure size 1440x720 with 1 Axes>"
      ]
     },
     "metadata": {
      "needs_background": "light"
     },
     "output_type": "display_data"
    }
   ],
   "source": [
    "fig ,ax = plt.subplots(figsize=(20, 10))\n",
    "sns.set(font_scale = 2)\n",
    "output = pd.DataFrame([model_r2.keys() , model_r2.values()], index = [\"algo\",\"r2\"]).T\n",
    "output.sort_values([\"r2\"], ascending= False ,inplace=True)\n",
    "ax = sns.barplot(y=\"algo\", x=\"r2\", data=output)\n",
    "plt.show()"
   ]
  },
  {
   "cell_type": "code",
   "execution_count": 9,
   "metadata": {},
   "outputs": [
    {
     "data": {
      "text/plain": [
       "{'Linear': {'fit__fit_intercept': False, 'poly__degree': 1},\n",
       " 'Lasso': {'fit__alpha': 0.021544346900318822,\n",
       "  'fit__tol': 0.005994842503189409,\n",
       "  'poly__degree': 2},\n",
       " 'pca regression': {'pca__n_components': 5},\n",
       " 'Ridge': {'fit__alpha': 2.0,\n",
       "  'fit__solver': 'lsqr',\n",
       "  'fit__tol': 0.005994842503189409,\n",
       "  'poly__degree': 2},\n",
       " 'PLSRegression': {'fit__n_components': 5},\n",
       " 'GradientDescentRegressor': {'fit__loss': 'ls',\n",
       "  'fit__max_depth': 6,\n",
       "  'fit__max_features': 'log2',\n",
       "  'fit__min_samples_split': 0.5},\n",
       " 'RandomForestRegressor': {'fit__max_depth': 5,\n",
       "  'fit__max_features': 'log2',\n",
       "  'fit__min_samples_split': 0.5},\n",
       " 'SupportVectorRegressor': {'fit__degree': 2,\n",
       "  'fit__gamma': 2.154434690031882,\n",
       "  'fit__kernel': 'rbf'},\n",
       " 'Kernel RidgeRegression': {'fit__gamma': 2.154434690031882,\n",
       "  'fit__kernel': 'rbf'}}"
      ]
     },
     "execution_count": 9,
     "metadata": {},
     "output_type": "execute_result"
    }
   ],
   "source": [
    "#model_mse\n",
    "model_r2\n",
    "model_best_params"
   ]
  },
  {
   "cell_type": "code",
   "execution_count": 10,
   "metadata": {},
   "outputs": [
    {
     "data": {
      "text/html": [
       "<style>#sk-container-id-1 {color: black;background-color: white;}#sk-container-id-1 pre{padding: 0;}#sk-container-id-1 div.sk-toggleable {background-color: white;}#sk-container-id-1 label.sk-toggleable__label {cursor: pointer;display: block;width: 100%;margin-bottom: 0;padding: 0.3em;box-sizing: border-box;text-align: center;}#sk-container-id-1 label.sk-toggleable__label-arrow:before {content: \"▸\";float: left;margin-right: 0.25em;color: #696969;}#sk-container-id-1 label.sk-toggleable__label-arrow:hover:before {color: black;}#sk-container-id-1 div.sk-estimator:hover label.sk-toggleable__label-arrow:before {color: black;}#sk-container-id-1 div.sk-toggleable__content {max-height: 0;max-width: 0;overflow: hidden;text-align: left;background-color: #f0f8ff;}#sk-container-id-1 div.sk-toggleable__content pre {margin: 0.2em;color: black;border-radius: 0.25em;background-color: #f0f8ff;}#sk-container-id-1 input.sk-toggleable__control:checked~div.sk-toggleable__content {max-height: 200px;max-width: 100%;overflow: auto;}#sk-container-id-1 input.sk-toggleable__control:checked~label.sk-toggleable__label-arrow:before {content: \"▾\";}#sk-container-id-1 div.sk-estimator input.sk-toggleable__control:checked~label.sk-toggleable__label {background-color: #d4ebff;}#sk-container-id-1 div.sk-label input.sk-toggleable__control:checked~label.sk-toggleable__label {background-color: #d4ebff;}#sk-container-id-1 input.sk-hidden--visually {border: 0;clip: rect(1px 1px 1px 1px);clip: rect(1px, 1px, 1px, 1px);height: 1px;margin: -1px;overflow: hidden;padding: 0;position: absolute;width: 1px;}#sk-container-id-1 div.sk-estimator {font-family: monospace;background-color: #f0f8ff;border: 1px dotted black;border-radius: 0.25em;box-sizing: border-box;margin-bottom: 0.5em;}#sk-container-id-1 div.sk-estimator:hover {background-color: #d4ebff;}#sk-container-id-1 div.sk-parallel-item::after {content: \"\";width: 100%;border-bottom: 1px solid gray;flex-grow: 1;}#sk-container-id-1 div.sk-label:hover label.sk-toggleable__label {background-color: #d4ebff;}#sk-container-id-1 div.sk-serial::before {content: \"\";position: absolute;border-left: 1px solid gray;box-sizing: border-box;top: 0;bottom: 0;left: 50%;z-index: 0;}#sk-container-id-1 div.sk-serial {display: flex;flex-direction: column;align-items: center;background-color: white;padding-right: 0.2em;padding-left: 0.2em;position: relative;}#sk-container-id-1 div.sk-item {position: relative;z-index: 1;}#sk-container-id-1 div.sk-parallel {display: flex;align-items: stretch;justify-content: center;background-color: white;position: relative;}#sk-container-id-1 div.sk-item::before, #sk-container-id-1 div.sk-parallel-item::before {content: \"\";position: absolute;border-left: 1px solid gray;box-sizing: border-box;top: 0;bottom: 0;left: 50%;z-index: -1;}#sk-container-id-1 div.sk-parallel-item {display: flex;flex-direction: column;z-index: 1;position: relative;background-color: white;}#sk-container-id-1 div.sk-parallel-item:first-child::after {align-self: flex-end;width: 50%;}#sk-container-id-1 div.sk-parallel-item:last-child::after {align-self: flex-start;width: 50%;}#sk-container-id-1 div.sk-parallel-item:only-child::after {width: 0;}#sk-container-id-1 div.sk-dashed-wrapped {border: 1px dashed gray;margin: 0 0.4em 0.5em 0.4em;box-sizing: border-box;padding-bottom: 0.4em;background-color: white;}#sk-container-id-1 div.sk-label label {font-family: monospace;font-weight: bold;display: inline-block;line-height: 1.2em;}#sk-container-id-1 div.sk-label-container {text-align: center;}#sk-container-id-1 div.sk-container {/* jupyter's `normalize.less` sets `[hidden] { display: none; }` but bootstrap.min.css set `[hidden] { display: none !important; }` so we also need the `!important` here to be able to override the default hidden behavior on the sphinx rendered scikit-learn.org. See: https://github.com/scikit-learn/scikit-learn/issues/21755 */display: inline-block !important;position: relative;}#sk-container-id-1 div.sk-text-repr-fallback {display: none;}</style><div id=\"sk-container-id-1\" class=\"sk-top-container\"><div class=\"sk-text-repr-fallback\"><pre>Lasso(alpha=0.004641588833612777)</pre><b>In a Jupyter environment, please rerun this cell to show the HTML representation or trust the notebook. <br />On GitHub, the HTML representation is unable to render, please try loading this page with nbviewer.org.</b></div><div class=\"sk-container\" hidden><div class=\"sk-item\"><div class=\"sk-estimator sk-toggleable\"><input class=\"sk-toggleable__control sk-hidden--visually\" id=\"sk-estimator-id-1\" type=\"checkbox\" checked><label for=\"sk-estimator-id-1\" class=\"sk-toggleable__label sk-toggleable__label-arrow\">Lasso</label><div class=\"sk-toggleable__content\"><pre>Lasso(alpha=0.004641588833612777)</pre></div></div></div></div></div>"
      ],
      "text/plain": [
       "Lasso(alpha=0.004641588833612777)"
      ]
     },
     "execution_count": 10,
     "metadata": {},
     "output_type": "execute_result"
    }
   ],
   "source": [
    "from sklearn.linear_model import Lasso\n",
    "model.fit(x_train, y_train)\n",
    "lasso = Lasso(alpha=0.004641588833612777).fit(x_train, y_train)\n",
    "prd = lasso\n",
    "prd.fit(x_train,y_train)"
   ]
  },
  {
   "cell_type": "code",
   "execution_count": null,
   "metadata": {},
   "outputs": [],
   "source": [
    "'''from sklearn.preprocessing import MinMaxScaler\n",
    "mms = MinMaxScaler()\n",
    "mms.fit(x_train)\n",
    "X_train_scaled = mms.transform(x_train)\n",
    "X_test_scaled = mms.transform(x_test)\n",
    "prd.fit(X_train_scaled, y_train)\n",
    "print('모델의 정확도 :', round(prd.score(X_test_scaled, y_test), 4))'''"
   ]
  },
  {
   "cell_type": "code",
   "execution_count": 11,
   "metadata": {},
   "outputs": [],
   "source": [
    "y_predict = prd.predict(x_train)"
   ]
  },
  {
   "cell_type": "code",
   "execution_count": 12,
   "metadata": {},
   "outputs": [],
   "source": [
    "import matplotlib.pyplot as plt\n",
    "plt.rc('font', family='NanumBarunGothic')\n",
    "plt.rcParams['axes.unicode_minus'] = False"
   ]
  },
  {
   "cell_type": "code",
   "execution_count": 13,
   "metadata": {},
   "outputs": [],
   "source": [
    "import matplotlib.pyplot as plt\n",
    "plt.rc('font', family='Malgun Gothic')\n",
    "plt.rcParams['axes.unicode_minus'] = False"
   ]
  },
  {
   "cell_type": "code",
   "execution_count": 14,
   "metadata": {},
   "outputs": [
    {
     "ename": "ValueError",
     "evalue": "x and y must be the same size",
     "output_type": "error",
     "traceback": [
      "\u001b[1;31m---------------------------------------------------------------------------\u001b[0m",
      "\u001b[1;31mValueError\u001b[0m                                Traceback (most recent call last)",
      "\u001b[1;32mC:\\Users\\JOONHY~1\\AppData\\Local\\Temp/ipykernel_16976/2361903869.py\u001b[0m in \u001b[0;36m<module>\u001b[1;34m\u001b[0m\n\u001b[1;32m----> 1\u001b[1;33m \u001b[0mplt\u001b[0m\u001b[1;33m.\u001b[0m\u001b[0mscatter\u001b[0m\u001b[1;33m(\u001b[0m\u001b[0my_test\u001b[0m\u001b[1;33m,\u001b[0m \u001b[0my_predict\u001b[0m\u001b[1;33m,\u001b[0m \u001b[0malpha\u001b[0m \u001b[1;33m=\u001b[0m \u001b[1;36m0.4\u001b[0m\u001b[1;33m)\u001b[0m\u001b[1;33m\u001b[0m\u001b[1;33m\u001b[0m\u001b[0m\n\u001b[0m\u001b[0;32m      2\u001b[0m \u001b[0mplt\u001b[0m\u001b[1;33m.\u001b[0m\u001b[0mxlabel\u001b[0m\u001b[1;33m(\u001b[0m\u001b[1;34m\"Actual Rent\"\u001b[0m\u001b[1;33m)\u001b[0m\u001b[1;33m\u001b[0m\u001b[1;33m\u001b[0m\u001b[0m\n\u001b[0;32m      3\u001b[0m \u001b[0mplt\u001b[0m\u001b[1;33m.\u001b[0m\u001b[0mylabel\u001b[0m\u001b[1;33m(\u001b[0m\u001b[1;34m\"Predicted Rent\"\u001b[0m\u001b[1;33m)\u001b[0m\u001b[1;33m\u001b[0m\u001b[1;33m\u001b[0m\u001b[0m\n\u001b[0;32m      4\u001b[0m \u001b[0mplt\u001b[0m\u001b[1;33m.\u001b[0m\u001b[0mtitle\u001b[0m\u001b[1;33m(\u001b[0m\u001b[1;34m\"MULTIPLE LINEAR REGRESSION\"\u001b[0m\u001b[1;33m)\u001b[0m\u001b[1;33m\u001b[0m\u001b[1;33m\u001b[0m\u001b[0m\n\u001b[0;32m      5\u001b[0m \u001b[0mplt\u001b[0m\u001b[1;33m.\u001b[0m\u001b[0mshow\u001b[0m\u001b[1;33m(\u001b[0m\u001b[1;33m)\u001b[0m\u001b[1;33m\u001b[0m\u001b[1;33m\u001b[0m\u001b[0m\n",
      "\u001b[1;32mc:\\Users\\Joon Hyuk Suh\\AppData\\Local\\Programs\\Python\\Python38\\lib\\site-packages\\matplotlib\\pyplot.py\u001b[0m in \u001b[0;36mscatter\u001b[1;34m(x, y, s, c, marker, cmap, norm, vmin, vmax, alpha, linewidths, edgecolors, plotnonfinite, data, **kwargs)\u001b[0m\n\u001b[0;32m   3066\u001b[0m         \u001b[0mvmin\u001b[0m\u001b[1;33m=\u001b[0m\u001b[1;32mNone\u001b[0m\u001b[1;33m,\u001b[0m \u001b[0mvmax\u001b[0m\u001b[1;33m=\u001b[0m\u001b[1;32mNone\u001b[0m\u001b[1;33m,\u001b[0m \u001b[0malpha\u001b[0m\u001b[1;33m=\u001b[0m\u001b[1;32mNone\u001b[0m\u001b[1;33m,\u001b[0m \u001b[0mlinewidths\u001b[0m\u001b[1;33m=\u001b[0m\u001b[1;32mNone\u001b[0m\u001b[1;33m,\u001b[0m \u001b[1;33m*\u001b[0m\u001b[1;33m,\u001b[0m\u001b[1;33m\u001b[0m\u001b[1;33m\u001b[0m\u001b[0m\n\u001b[0;32m   3067\u001b[0m         edgecolors=None, plotnonfinite=False, data=None, **kwargs):\n\u001b[1;32m-> 3068\u001b[1;33m     __ret = gca().scatter(\n\u001b[0m\u001b[0;32m   3069\u001b[0m         \u001b[0mx\u001b[0m\u001b[1;33m,\u001b[0m \u001b[0my\u001b[0m\u001b[1;33m,\u001b[0m \u001b[0ms\u001b[0m\u001b[1;33m=\u001b[0m\u001b[0ms\u001b[0m\u001b[1;33m,\u001b[0m \u001b[0mc\u001b[0m\u001b[1;33m=\u001b[0m\u001b[0mc\u001b[0m\u001b[1;33m,\u001b[0m \u001b[0mmarker\u001b[0m\u001b[1;33m=\u001b[0m\u001b[0mmarker\u001b[0m\u001b[1;33m,\u001b[0m \u001b[0mcmap\u001b[0m\u001b[1;33m=\u001b[0m\u001b[0mcmap\u001b[0m\u001b[1;33m,\u001b[0m \u001b[0mnorm\u001b[0m\u001b[1;33m=\u001b[0m\u001b[0mnorm\u001b[0m\u001b[1;33m,\u001b[0m\u001b[1;33m\u001b[0m\u001b[1;33m\u001b[0m\u001b[0m\n\u001b[0;32m   3070\u001b[0m         \u001b[0mvmin\u001b[0m\u001b[1;33m=\u001b[0m\u001b[0mvmin\u001b[0m\u001b[1;33m,\u001b[0m \u001b[0mvmax\u001b[0m\u001b[1;33m=\u001b[0m\u001b[0mvmax\u001b[0m\u001b[1;33m,\u001b[0m \u001b[0malpha\u001b[0m\u001b[1;33m=\u001b[0m\u001b[0malpha\u001b[0m\u001b[1;33m,\u001b[0m \u001b[0mlinewidths\u001b[0m\u001b[1;33m=\u001b[0m\u001b[0mlinewidths\u001b[0m\u001b[1;33m,\u001b[0m\u001b[1;33m\u001b[0m\u001b[1;33m\u001b[0m\u001b[0m\n",
      "\u001b[1;32mc:\\Users\\Joon Hyuk Suh\\AppData\\Local\\Programs\\Python\\Python38\\lib\\site-packages\\matplotlib\\__init__.py\u001b[0m in \u001b[0;36minner\u001b[1;34m(ax, data, *args, **kwargs)\u001b[0m\n\u001b[0;32m   1359\u001b[0m     \u001b[1;32mdef\u001b[0m \u001b[0minner\u001b[0m\u001b[1;33m(\u001b[0m\u001b[0max\u001b[0m\u001b[1;33m,\u001b[0m \u001b[1;33m*\u001b[0m\u001b[0margs\u001b[0m\u001b[1;33m,\u001b[0m \u001b[0mdata\u001b[0m\u001b[1;33m=\u001b[0m\u001b[1;32mNone\u001b[0m\u001b[1;33m,\u001b[0m \u001b[1;33m**\u001b[0m\u001b[0mkwargs\u001b[0m\u001b[1;33m)\u001b[0m\u001b[1;33m:\u001b[0m\u001b[1;33m\u001b[0m\u001b[1;33m\u001b[0m\u001b[0m\n\u001b[0;32m   1360\u001b[0m         \u001b[1;32mif\u001b[0m \u001b[0mdata\u001b[0m \u001b[1;32mis\u001b[0m \u001b[1;32mNone\u001b[0m\u001b[1;33m:\u001b[0m\u001b[1;33m\u001b[0m\u001b[1;33m\u001b[0m\u001b[0m\n\u001b[1;32m-> 1361\u001b[1;33m             \u001b[1;32mreturn\u001b[0m \u001b[0mfunc\u001b[0m\u001b[1;33m(\u001b[0m\u001b[0max\u001b[0m\u001b[1;33m,\u001b[0m \u001b[1;33m*\u001b[0m\u001b[0mmap\u001b[0m\u001b[1;33m(\u001b[0m\u001b[0msanitize_sequence\u001b[0m\u001b[1;33m,\u001b[0m \u001b[0margs\u001b[0m\u001b[1;33m)\u001b[0m\u001b[1;33m,\u001b[0m \u001b[1;33m**\u001b[0m\u001b[0mkwargs\u001b[0m\u001b[1;33m)\u001b[0m\u001b[1;33m\u001b[0m\u001b[1;33m\u001b[0m\u001b[0m\n\u001b[0m\u001b[0;32m   1362\u001b[0m \u001b[1;33m\u001b[0m\u001b[0m\n\u001b[0;32m   1363\u001b[0m         \u001b[0mbound\u001b[0m \u001b[1;33m=\u001b[0m \u001b[0mnew_sig\u001b[0m\u001b[1;33m.\u001b[0m\u001b[0mbind\u001b[0m\u001b[1;33m(\u001b[0m\u001b[0max\u001b[0m\u001b[1;33m,\u001b[0m \u001b[1;33m*\u001b[0m\u001b[0margs\u001b[0m\u001b[1;33m,\u001b[0m \u001b[1;33m**\u001b[0m\u001b[0mkwargs\u001b[0m\u001b[1;33m)\u001b[0m\u001b[1;33m\u001b[0m\u001b[1;33m\u001b[0m\u001b[0m\n",
      "\u001b[1;32mc:\\Users\\Joon Hyuk Suh\\AppData\\Local\\Programs\\Python\\Python38\\lib\\site-packages\\matplotlib\\axes\\_axes.py\u001b[0m in \u001b[0;36mscatter\u001b[1;34m(self, x, y, s, c, marker, cmap, norm, vmin, vmax, alpha, linewidths, edgecolors, plotnonfinite, **kwargs)\u001b[0m\n\u001b[0;32m   4496\u001b[0m         \u001b[0my\u001b[0m \u001b[1;33m=\u001b[0m \u001b[0mnp\u001b[0m\u001b[1;33m.\u001b[0m\u001b[0mma\u001b[0m\u001b[1;33m.\u001b[0m\u001b[0mravel\u001b[0m\u001b[1;33m(\u001b[0m\u001b[0my\u001b[0m\u001b[1;33m)\u001b[0m\u001b[1;33m\u001b[0m\u001b[1;33m\u001b[0m\u001b[0m\n\u001b[0;32m   4497\u001b[0m         \u001b[1;32mif\u001b[0m \u001b[0mx\u001b[0m\u001b[1;33m.\u001b[0m\u001b[0msize\u001b[0m \u001b[1;33m!=\u001b[0m \u001b[0my\u001b[0m\u001b[1;33m.\u001b[0m\u001b[0msize\u001b[0m\u001b[1;33m:\u001b[0m\u001b[1;33m\u001b[0m\u001b[1;33m\u001b[0m\u001b[0m\n\u001b[1;32m-> 4498\u001b[1;33m             \u001b[1;32mraise\u001b[0m \u001b[0mValueError\u001b[0m\u001b[1;33m(\u001b[0m\u001b[1;34m\"x and y must be the same size\"\u001b[0m\u001b[1;33m)\u001b[0m\u001b[1;33m\u001b[0m\u001b[1;33m\u001b[0m\u001b[0m\n\u001b[0m\u001b[0;32m   4499\u001b[0m \u001b[1;33m\u001b[0m\u001b[0m\n\u001b[0;32m   4500\u001b[0m         \u001b[1;32mif\u001b[0m \u001b[0ms\u001b[0m \u001b[1;32mis\u001b[0m \u001b[1;32mNone\u001b[0m\u001b[1;33m:\u001b[0m\u001b[1;33m\u001b[0m\u001b[1;33m\u001b[0m\u001b[0m\n",
      "\u001b[1;31mValueError\u001b[0m: x and y must be the same size"
     ]
    },
    {
     "data": {
      "image/png": "[encoded data removed]",
      "text/plain": [
       "<Figure size 432x288 with 1 Axes>"
      ]
     },
     "metadata": {},
     "output_type": "display_data"
    }
   ],
   "source": [
    "plt.scatter(y_test, y_predict, alpha = 0.4)\n",
    "plt.xlabel(\"Actual Rent\")\n",
    "plt.ylabel(\"Predicted Rent\")\n",
    "plt.title(\"MULTIPLE LINEAR REGRESSION\")\n",
    "plt.show()"
   ]
  },
  {
   "cell_type": "code",
   "execution_count": null,
   "metadata": {},
   "outputs": [],
   "source": [
    "from sklearn.metrics import mean_absolute_error\n",
    "mae_test=mean_absolute_error(y_test,y_predict)\n",
    "#수치가 낮을수록 정확도가 높음\n",
    "from sklearn.metrics import mean_squared_error\n",
    "mse_test=mean_squared_error(y_test, y_predict)\n",
    "#수치가 낮을수록 정확도가 높음\n",
    "from sklearn.metrics import r2_score\n",
    "r2_score=r2_score(y_test, y_predict)"
   ]
  },
  {
   "cell_type": "code",
   "execution_count": null,
   "metadata": {},
   "outputs": [],
   "source": [
    "print('lasso regression: Mean squared error: %f' %(mse_test)) \n",
    "print('lasso regression: Mean_absolute_error: %f' %(mae_test)) \n",
    "print('lasso regression: r2_score: %f' %(r2_score))"
   ]
  },
  {
   "cell_type": "code",
   "execution_count": null,
   "metadata": {},
   "outputs": [],
   "source": [
    "import joblib\n",
    "joblib.dump(prd, 'saved_model.pkl')"
   ]
  },
  {
   "cell_type": "code",
   "execution_count": null,
   "metadata": {},
   "outputs": [],
   "source": [
    "import joblib\n",
    "prd = joblib.load('saved_model.pkl')"
   ]
  },
  {
   "cell_type": "code",
   "execution_count": null,
   "metadata": {},
   "outputs": [],
   "source": [
    "import pickle\n",
    "with open('saved_model.pickle','wb') as fw:\n",
    "    pickle.dump(prd,fw)"
   ]
  },
  {
   "cell_type": "code",
   "execution_count": null,
   "metadata": {},
   "outputs": [],
   "source": [
    "import pickle\n",
    "with open('saved_model.pickle','rb') as f:\n",
    "    model3 = pickle.load(f)"
   ]
  },
  {
   "cell_type": "code",
   "execution_count": null,
   "metadata": {},
   "outputs": [],
   "source": [
    "model3"
   ]
  },
  {
   "cell_type": "code",
   "execution_count": null,
   "metadata": {
    "scrolled": true
   },
   "outputs": [],
   "source": [
    "print('lasso regression: r2_score: %f' %(r2_score))"
   ]
  },
  {
   "cell_type": "code",
   "execution_count": null,
   "metadata": {},
   "outputs": [],
   "source": []
  }
 ],
 "metadata": {
  "colab": {
   "collapsed_sections": [],
   "name": "New.ipynb",
   "provenance": []
  },
  "kernelspec": {
   "display_name": "Python 3.8.8 64-bit",
   "language": "python",
   "name": "python3"
  },
  "language_info": {
   "codemirror_mode": {
    "name": "ipython",
    "version": 3
   },
   "file_extension": ".py",
   "mimetype": "text/x-python",
   "name": "python",
   "nbconvert_exporter": "python",
   "pygments_lexer": "ipython3",
   "version": "3.8.8"
  },
  "vscode": {
   "interpreter": {
    "hash": "b50b7af385154bca1a6ba75f2d3e59d00e71294bfb9e86693d3b7dc72e3e5abb"
   }
  }
 },
 "nbformat": 4,
 "nbformat_minor": 1
}
