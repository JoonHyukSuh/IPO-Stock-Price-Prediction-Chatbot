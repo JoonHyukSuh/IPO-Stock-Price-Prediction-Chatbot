{
 "cells": [
  {
   "cell_type": "code",
   "execution_count": 1,
   "metadata": {
    "id": "5mRpDh69dDld"
   },
   "outputs": [],
   "source": [
    "import pandas as pd\n",
    "import numpy as np\n",
    "import seaborn as sns\n",
    "from sklearn import preprocessing\n",
    "import matplotlib.pyplot as plt\n",
    "%matplotlib inline"
   ]
  },
  {
   "cell_type": "code",
   "execution_count": 2,
   "metadata": {
    "id": "San70JGYdDlk",
    "outputId": "f859c376-eb75-4245-b2f7-a3c0ac15a901"
   },
   "outputs": [
    {
     "data": {
      "text/html": [
       "<div>\n",
       "<style scoped>\n",
       "    .dataframe tbody tr th:only-of-type {\n",
       "        vertical-align: middle;\n",
       "    }\n",
       "\n",
       "    .dataframe tbody tr th {\n",
       "        vertical-align: top;\n",
       "    }\n",
       "\n",
       "    .dataframe thead th {\n",
       "        text-align: right;\n",
       "    }\n",
       "</style>\n",
       "<table border=\"1\" class=\"dataframe\">\n",
       "  <thead>\n",
       "    <tr style=\"text-align: right;\">\n",
       "      <th></th>\n",
       "      <th>Unnamed: 0</th>\n",
       "      <th>기업명</th>\n",
       "      <th>매출액(백만원)</th>\n",
       "      <th>순이익(백만원)</th>\n",
       "      <th>구주매출</th>\n",
       "      <th>희망공모가(최저)</th>\n",
       "      <th>희망공모가(최고)</th>\n",
       "      <th>청약경쟁률(:1)</th>\n",
       "      <th>확정공모가(원)</th>\n",
       "      <th>경쟁률(:1)</th>\n",
       "      <th>의무보유확약(:1)</th>\n",
       "      <th>시초/공모%(수익률)</th>\n",
       "      <th>공모가(원)</th>\n",
       "      <th>시초가(원)</th>\n",
       "      <th>상장일</th>\n",
       "    </tr>\n",
       "  </thead>\n",
       "  <tbody>\n",
       "    <tr>\n",
       "      <th>0</th>\n",
       "      <td>0</td>\n",
       "      <td>에이치피에스피</td>\n",
       "      <td>61174.0</td>\n",
       "      <td>17658.0</td>\n",
       "      <td>1.00</td>\n",
       "      <td>23000.0</td>\n",
       "      <td>25000.0</td>\n",
       "      <td>1159.05</td>\n",
       "      <td>25000</td>\n",
       "      <td>1511.36</td>\n",
       "      <td>42.54</td>\n",
       "      <td>100.00</td>\n",
       "      <td>25000</td>\n",
       "      <td>50000</td>\n",
       "      <td>20220715</td>\n",
       "    </tr>\n",
       "    <tr>\n",
       "      <th>1</th>\n",
       "      <td>1</td>\n",
       "      <td>영창케미칼</td>\n",
       "      <td>60760.0</td>\n",
       "      <td>2506.0</td>\n",
       "      <td>0.83</td>\n",
       "      <td>15000.0</td>\n",
       "      <td>18600.0</td>\n",
       "      <td>682.13</td>\n",
       "      <td>18600</td>\n",
       "      <td>1616.27</td>\n",
       "      <td>5.92</td>\n",
       "      <td>-1.08</td>\n",
       "      <td>18600</td>\n",
       "      <td>18400</td>\n",
       "      <td>20220714</td>\n",
       "    </tr>\n",
       "    <tr>\n",
       "      <th>2</th>\n",
       "      <td>2</td>\n",
       "      <td>넥스트칩</td>\n",
       "      <td>10383.0</td>\n",
       "      <td>-13496.0</td>\n",
       "      <td>1.00</td>\n",
       "      <td>9900.0</td>\n",
       "      <td>11600.0</td>\n",
       "      <td>1727.38</td>\n",
       "      <td>13000</td>\n",
       "      <td>1623.41</td>\n",
       "      <td>11.58</td>\n",
       "      <td>31.92</td>\n",
       "      <td>13000</td>\n",
       "      <td>17150</td>\n",
       "      <td>20220701</td>\n",
       "    </tr>\n",
       "    <tr>\n",
       "      <th>3</th>\n",
       "      <td>3</td>\n",
       "      <td>위니아에이드</td>\n",
       "      <td>418527.0</td>\n",
       "      <td>24895.0</td>\n",
       "      <td>1.00</td>\n",
       "      <td>14200.0</td>\n",
       "      <td>16200.0</td>\n",
       "      <td>111.26</td>\n",
       "      <td>16200</td>\n",
       "      <td>955.00</td>\n",
       "      <td>1.39</td>\n",
       "      <td>-9.88</td>\n",
       "      <td>16200</td>\n",
       "      <td>14600</td>\n",
       "      <td>20220623</td>\n",
       "    </tr>\n",
       "    <tr>\n",
       "      <th>4</th>\n",
       "      <td>4</td>\n",
       "      <td>레이저쎌</td>\n",
       "      <td>3879.0</td>\n",
       "      <td>-7665.0</td>\n",
       "      <td>1.00</td>\n",
       "      <td>12000.0</td>\n",
       "      <td>14000.0</td>\n",
       "      <td>1845.11</td>\n",
       "      <td>16000</td>\n",
       "      <td>1442.95</td>\n",
       "      <td>12.43</td>\n",
       "      <td>28.75</td>\n",
       "      <td>16000</td>\n",
       "      <td>20600</td>\n",
       "      <td>20220624</td>\n",
       "    </tr>\n",
       "  </tbody>\n",
       "</table>\n",
       "</div>"
      ],
      "text/plain": [
       "   Unnamed: 0      기업명  매출액(백만원)  순이익(백만원)  구주매출  희망공모가(최저)  희망공모가(최고)  \\\n",
       "0           0  에이치피에스피   61174.0   17658.0  1.00    23000.0    25000.0   \n",
       "1           1    영창케미칼   60760.0    2506.0  0.83    15000.0    18600.0   \n",
       "2           2     넥스트칩   10383.0  -13496.0  1.00     9900.0    11600.0   \n",
       "3           3   위니아에이드  418527.0   24895.0  1.00    14200.0    16200.0   \n",
       "4           4     레이저쎌    3879.0   -7665.0  1.00    12000.0    14000.0   \n",
       "\n",
       "   청약경쟁률(:1)  확정공모가(원)  경쟁률(:1)  의무보유확약(:1)  시초/공모%(수익률)  공모가(원)  시초가(원)  \\\n",
       "0    1159.05     25000  1511.36       42.54       100.00   25000   50000   \n",
       "1     682.13     18600  1616.27        5.92        -1.08   18600   18400   \n",
       "2    1727.38     13000  1623.41       11.58        31.92   13000   17150   \n",
       "3     111.26     16200   955.00        1.39        -9.88   16200   14600   \n",
       "4    1845.11     16000  1442.95       12.43        28.75   16000   20600   \n",
       "\n",
       "        상장일  \n",
       "0  20220715  \n",
       "1  20220714  \n",
       "2  20220701  \n",
       "3  20220623  \n",
       "4  20220624  "
      ]
     },
     "execution_count": 2,
     "metadata": {},
     "output_type": "execute_result"
    }
   ],
   "source": [
    "data1 = pd.read_csv('/Users/gyujin/Downloads/refined_data.csv')\n",
    "data1.head()"
   ]
  },
  {
   "cell_type": "code",
   "execution_count": 3,
   "metadata": {
    "id": "mvl2YPXkdDlp"
   },
   "outputs": [],
   "source": [
    "from sklearn.model_selection import train_test_split\n",
    "x= data1[[\"매출액(백만원)\",\"순이익(백만원)\",\"구주매출\",\"희망공모가(최저)\",\"희망공모가(최고)\",\"청약경쟁률(:1)\",\"확정공모가(원)\",\"경쟁률(:1)\",\"의무보유확약(:1)\",\"공모가(원)\",\"시초가(원)\"]]\n",
    "y= data1[\"시초/공모%(수익률)\"]"
   ]
  },
  {
   "cell_type": "code",
   "execution_count": 4,
   "metadata": {},
   "outputs": [],
   "source": [
    "x_train, x_test,y_train,y_test = train_test_split(x, y, train_size=0.8,test_size=0.2,random_state = 1)\n",
    "#8:2의 비율로 training, test set 분리"
   ]
  },
  {
   "cell_type": "code",
   "execution_count": 5,
   "metadata": {},
   "outputs": [
    {
     "name": "stdout",
     "output_type": "stream",
     "text": [
      "(316, 11)\n",
      "(80, 11)\n",
      "174      5.31\n",
      "358     78.57\n",
      "249    100.00\n",
      "273      9.03\n",
      "339      9.52\n",
      "        ...  \n",
      "146     73.53\n",
      "287      0.42\n",
      "222     24.17\n",
      "159     81.56\n",
      "23     100.00\n",
      "Name: 시초/공모%(수익률), Length: 80, dtype: float64\n"
     ]
    }
   ],
   "source": [
    "print(x_train.shape)\n",
    "print(x_test.shape)\n",
    "print(y_test)"
   ]
  },
  {
   "cell_type": "code",
   "execution_count": 6,
   "metadata": {},
   "outputs": [],
   "source": [
    "#pip install xgboost"
   ]
  },
  {
   "cell_type": "code",
   "execution_count": 7,
   "metadata": {},
   "outputs": [],
   "source": [
    "from sklearn.preprocessing import LabelEncoder\n",
    "from sklearn.model_selection import GridSearchCV\n",
    "from sklearn.ensemble import RandomForestRegressor\n",
    "from sklearn.tree import DecisionTreeRegressor\n",
    "from sklearn.model_selection import KFold\n",
    "from sklearn.pipeline import Pipeline\n",
    "from xgboost import XGBRegressor\n",
    "from math import sqrt\n",
    "from sklearn.metrics import explained_variance_score"
   ]
  },
  {
   "cell_type": "code",
   "execution_count": 8,
   "metadata": {},
   "outputs": [],
   "source": [
    "pipe = Pipeline([('regressor', RandomForestRegressor())])\n",
    "search_space = [\n",
    "                {\n",
    "                 'regressor': [RandomForestRegressor(random_state=0)],\n",
    "                 'regressor__n_estimators': [100, 150, 200],\n",
    "                 'regressor__max_depth': [3, 4, 5]\n",
    "                },\n",
    "                \n",
    "                {\n",
    "                 'regressor': [XGBRegressor()],\n",
    "                 'regressor__max_depth': [3],\n",
    "                 'regressor__n_estimators': [300],\n",
    "                 'regressor__eta': [0.02, 0.1],\n",
    "                 'regressor__subsample': [0.5, 0.6],\n",
    "                 'regressor__seed':[0]\n",
    "                },\n",
    "                \n",
    "                {\n",
    "                 'regressor': [DecisionTreeRegressor(random_state=0)],\n",
    "                 'regressor__min_samples_split':[3, 4, 5],\n",
    "                 'regressor__max_depth': [3, 4, 5]\n",
    "                }\n",
    "               ]"
   ]
  },
  {
   "cell_type": "code",
   "execution_count": 9,
   "metadata": {},
   "outputs": [
    {
     "name": "stdout",
     "output_type": "stream",
     "text": [
      "best params: {'regressor': XGBRegressor(base_score=None, booster=None, callbacks=None,\n",
      "             colsample_bylevel=None, colsample_bynode=None,\n",
      "             colsample_bytree=None, early_stopping_rounds=None,\n",
      "             enable_categorical=False, eta=0.1, eval_metric=None, gamma=None,\n",
      "             gpu_id=None, grow_policy=None, importance_type=None,\n",
      "             interaction_constraints=None, learning_rate=None, max_bin=None,\n",
      "             max_cat_to_onehot=None, max_delta_step=None, max_depth=3,\n",
      "             max_leaves=None, min_child_weight=None, missing=nan,\n",
      "             monotone_constraints=None, n_estimators=300, n_jobs=None,\n",
      "             num_parallel_tree=None, predictor=None, random_state=None,\n",
      "             reg_alpha=None, ...), 'regressor__eta': 0.1, 'regressor__max_depth': 3, 'regressor__n_estimators': 300, 'regressor__seed': 0, 'regressor__subsample': 0.6}\n"
     ]
    }
   ],
   "source": [
    "kf = KFold(n_splits=5,random_state=None)\n",
    "grid_search = GridSearchCV(pipe,search_space, cv=kf, scoring='neg_mean_squared_error', n_jobs=-1)\n",
    "grid_search.fit(x_train, y_train.values.ravel())\n",
    "\n",
    "print('best params:', grid_search.best_params_) \n",
    "# grid_dclf.best_params_: 최적 하이퍼파라미터"
   ]
  },
  {
   "cell_type": "code",
   "execution_count": 10,
   "metadata": {},
   "outputs": [
    {
     "name": "stdout",
     "output_type": "stream",
     "text": [
      "best estimator: Pipeline(steps=[('regressor',\n",
      "                 XGBRegressor(base_score=0.5, booster='gbtree', callbacks=None,\n",
      "                              colsample_bylevel=1, colsample_bynode=1,\n",
      "                              colsample_bytree=1, early_stopping_rounds=None,\n",
      "                              enable_categorical=False, eta=0.1,\n",
      "                              eval_metric=None, gamma=0, gpu_id=-1,\n",
      "                              grow_policy='depthwise', importance_type=None,\n",
      "                              interaction_constraints='',\n",
      "                              learning_rate=0.100000001, max_bin=256,\n",
      "                              max_cat_to_onehot=4, max_delta_step=0,\n",
      "                              max_depth=3, max_leaves=0, min_child_weight=1,\n",
      "                              missing=nan, monotone_constraints='()',\n",
      "                              n_estimators=300, n_jobs=0, num_parallel_tree=1,\n",
      "                              predictor='auto', random_state=0, reg_alpha=0, ...))])\n"
     ]
    }
   ],
   "source": [
    "print('best estimator:', grid_search.best_estimator_)\n",
    "#grid_dclf.best_estimator_: 최적화 모델"
   ]
  },
  {
   "cell_type": "code",
   "execution_count": 11,
   "metadata": {},
   "outputs": [
    {
     "name": "stdout",
     "output_type": "stream",
     "text": [
      "316 80\n"
     ]
    },
    {
     "data": {
      "text/plain": [
       "XGBRegressor(base_score=0.5, booster='gbtree', callbacks=None,\n",
       "             colsample_bylevel=1, colsample_bynode=1, colsample_bytree=1,\n",
       "             early_stopping_rounds=None, enable_categorical=False,\n",
       "             eval_metric=None, gamma=0, gpu_id=-1, grow_policy='depthwise',\n",
       "             importance_type=None, interaction_constraints='',\n",
       "             learning_rate=0.100000001, max_bin=256, max_cat_to_onehot=4,\n",
       "             max_delta_step=0, max_depth=3, max_leaves=0, min_child_weight=1,\n",
       "             missing=nan, monotone_constraints='()', n_estimators=300, n_jobs=0,\n",
       "             num_parallel_tree=1, predictor='auto', random_state=0, reg_alpha=0,\n",
       "             reg_lambda=1, ...)"
      ]
     },
     "execution_count": 11,
     "metadata": {},
     "output_type": "execute_result"
    }
   ],
   "source": [
    "import xgboost\n",
    "xgb_model = xgboost.XGBRegressor(n_estimators=300, learning_rate=0.100000001, gamma=0, subsample=0.6,\n",
    "                           colsample_bytree=1, max_depth=3)\n",
    "\n",
    "print(len(x_train), len(x_test))\n",
    "xgb_model.fit(x_train,y_train)"
   ]
  },
  {
   "cell_type": "code",
   "execution_count": 12,
   "metadata": {},
   "outputs": [
    {
     "data": {
      "text/plain": [
       "<AxesSubplot:title={'center':'Feature importance'}, xlabel='F score', ylabel='Features'>"
      ]
     },
     "execution_count": 12,
     "metadata": {},
     "output_type": "execute_result"
    },
    {
     "name": "stderr",
     "output_type": "stream",
     "text": [
      "/Users/gyujin/miniforge3/envs/ml/lib/python3.8/site-packages/IPython/core/pylabtools.py:151: UserWarning: Glyph 55148 (\\N{HANGUL SYLLABLE HYI}) missing from current font.\n",
      "  fig.canvas.print_figure(bytes_io, **kw)\n",
      "/Users/gyujin/miniforge3/envs/ml/lib/python3.8/site-packages/IPython/core/pylabtools.py:151: UserWarning: Glyph 47581 (\\N{HANGUL SYLLABLE MANG}) missing from current font.\n",
      "  fig.canvas.print_figure(bytes_io, **kw)\n",
      "/Users/gyujin/miniforge3/envs/ml/lib/python3.8/site-packages/IPython/core/pylabtools.py:151: UserWarning: Glyph 44277 (\\N{HANGUL SYLLABLE GONG}) missing from current font.\n",
      "  fig.canvas.print_figure(bytes_io, **kw)\n",
      "/Users/gyujin/miniforge3/envs/ml/lib/python3.8/site-packages/IPython/core/pylabtools.py:151: UserWarning: Glyph 47784 (\\N{HANGUL SYLLABLE MO}) missing from current font.\n",
      "  fig.canvas.print_figure(bytes_io, **kw)\n",
      "/Users/gyujin/miniforge3/envs/ml/lib/python3.8/site-packages/IPython/core/pylabtools.py:151: UserWarning: Glyph 44032 (\\N{HANGUL SYLLABLE GA}) missing from current font.\n",
      "  fig.canvas.print_figure(bytes_io, **kw)\n",
      "/Users/gyujin/miniforge3/envs/ml/lib/python3.8/site-packages/IPython/core/pylabtools.py:151: UserWarning: Glyph 52572 (\\N{HANGUL SYLLABLE COE}) missing from current font.\n",
      "  fig.canvas.print_figure(bytes_io, **kw)\n",
      "/Users/gyujin/miniforge3/envs/ml/lib/python3.8/site-packages/IPython/core/pylabtools.py:151: UserWarning: Glyph 44256 (\\N{HANGUL SYLLABLE GO}) missing from current font.\n",
      "  fig.canvas.print_figure(bytes_io, **kw)\n",
      "/Users/gyujin/miniforge3/envs/ml/lib/python3.8/site-packages/IPython/core/pylabtools.py:151: UserWarning: Glyph 44396 (\\N{HANGUL SYLLABLE GU}) missing from current font.\n",
      "  fig.canvas.print_figure(bytes_io, **kw)\n",
      "/Users/gyujin/miniforge3/envs/ml/lib/python3.8/site-packages/IPython/core/pylabtools.py:151: UserWarning: Glyph 51452 (\\N{HANGUL SYLLABLE JU}) missing from current font.\n",
      "  fig.canvas.print_figure(bytes_io, **kw)\n",
      "/Users/gyujin/miniforge3/envs/ml/lib/python3.8/site-packages/IPython/core/pylabtools.py:151: UserWarning: Glyph 47588 (\\N{HANGUL SYLLABLE MAE}) missing from current font.\n",
      "  fig.canvas.print_figure(bytes_io, **kw)\n",
      "/Users/gyujin/miniforge3/envs/ml/lib/python3.8/site-packages/IPython/core/pylabtools.py:151: UserWarning: Glyph 52636 (\\N{HANGUL SYLLABLE CUL}) missing from current font.\n",
      "  fig.canvas.print_figure(bytes_io, **kw)\n",
      "/Users/gyujin/miniforge3/envs/ml/lib/python3.8/site-packages/IPython/core/pylabtools.py:151: UserWarning: Glyph 51200 (\\N{HANGUL SYLLABLE JEO}) missing from current font.\n",
      "  fig.canvas.print_figure(bytes_io, **kw)\n",
      "/Users/gyujin/miniforge3/envs/ml/lib/python3.8/site-packages/IPython/core/pylabtools.py:151: UserWarning: Glyph 44221 (\\N{HANGUL SYLLABLE GYEONG}) missing from current font.\n",
      "  fig.canvas.print_figure(bytes_io, **kw)\n",
      "/Users/gyujin/miniforge3/envs/ml/lib/python3.8/site-packages/IPython/core/pylabtools.py:151: UserWarning: Glyph 51137 (\\N{HANGUL SYLLABLE JAENG}) missing from current font.\n",
      "  fig.canvas.print_figure(bytes_io, **kw)\n",
      "/Users/gyujin/miniforge3/envs/ml/lib/python3.8/site-packages/IPython/core/pylabtools.py:151: UserWarning: Glyph 47456 (\\N{HANGUL SYLLABLE RYUL}) missing from current font.\n",
      "  fig.canvas.print_figure(bytes_io, **kw)\n",
      "/Users/gyujin/miniforge3/envs/ml/lib/python3.8/site-packages/IPython/core/pylabtools.py:151: UserWarning: Glyph 49692 (\\N{HANGUL SYLLABLE SUN}) missing from current font.\n",
      "  fig.canvas.print_figure(bytes_io, **kw)\n",
      "/Users/gyujin/miniforge3/envs/ml/lib/python3.8/site-packages/IPython/core/pylabtools.py:151: UserWarning: Glyph 51060 (\\N{HANGUL SYLLABLE I}) missing from current font.\n",
      "  fig.canvas.print_figure(bytes_io, **kw)\n",
      "/Users/gyujin/miniforge3/envs/ml/lib/python3.8/site-packages/IPython/core/pylabtools.py:151: UserWarning: Glyph 51061 (\\N{HANGUL SYLLABLE IG}) missing from current font.\n",
      "  fig.canvas.print_figure(bytes_io, **kw)\n",
      "/Users/gyujin/miniforge3/envs/ml/lib/python3.8/site-packages/IPython/core/pylabtools.py:151: UserWarning: Glyph 48177 (\\N{HANGUL SYLLABLE BAEG}) missing from current font.\n",
      "  fig.canvas.print_figure(bytes_io, **kw)\n",
      "/Users/gyujin/miniforge3/envs/ml/lib/python3.8/site-packages/IPython/core/pylabtools.py:151: UserWarning: Glyph 47564 (\\N{HANGUL SYLLABLE MAN}) missing from current font.\n",
      "  fig.canvas.print_figure(bytes_io, **kw)\n",
      "/Users/gyujin/miniforge3/envs/ml/lib/python3.8/site-packages/IPython/core/pylabtools.py:151: UserWarning: Glyph 50896 (\\N{HANGUL SYLLABLE WEON}) missing from current font.\n",
      "  fig.canvas.print_figure(bytes_io, **kw)\n",
      "/Users/gyujin/miniforge3/envs/ml/lib/python3.8/site-packages/IPython/core/pylabtools.py:151: UserWarning: Glyph 50529 (\\N{HANGUL SYLLABLE AEG}) missing from current font.\n",
      "  fig.canvas.print_figure(bytes_io, **kw)\n",
      "/Users/gyujin/miniforge3/envs/ml/lib/python3.8/site-packages/IPython/core/pylabtools.py:151: UserWarning: Glyph 54869 (\\N{HANGUL SYLLABLE HWAG}) missing from current font.\n",
      "  fig.canvas.print_figure(bytes_io, **kw)\n",
      "/Users/gyujin/miniforge3/envs/ml/lib/python3.8/site-packages/IPython/core/pylabtools.py:151: UserWarning: Glyph 51221 (\\N{HANGUL SYLLABLE JEONG}) missing from current font.\n",
      "  fig.canvas.print_figure(bytes_io, **kw)\n",
      "/Users/gyujin/miniforge3/envs/ml/lib/python3.8/site-packages/IPython/core/pylabtools.py:151: UserWarning: Glyph 51032 (\\N{HANGUL SYLLABLE YI}) missing from current font.\n",
      "  fig.canvas.print_figure(bytes_io, **kw)\n",
      "/Users/gyujin/miniforge3/envs/ml/lib/python3.8/site-packages/IPython/core/pylabtools.py:151: UserWarning: Glyph 47924 (\\N{HANGUL SYLLABLE MU}) missing from current font.\n",
      "  fig.canvas.print_figure(bytes_io, **kw)\n",
      "/Users/gyujin/miniforge3/envs/ml/lib/python3.8/site-packages/IPython/core/pylabtools.py:151: UserWarning: Glyph 48372 (\\N{HANGUL SYLLABLE BO}) missing from current font.\n",
      "  fig.canvas.print_figure(bytes_io, **kw)\n",
      "/Users/gyujin/miniforge3/envs/ml/lib/python3.8/site-packages/IPython/core/pylabtools.py:151: UserWarning: Glyph 50976 (\\N{HANGUL SYLLABLE YU}) missing from current font.\n",
      "  fig.canvas.print_figure(bytes_io, **kw)\n",
      "/Users/gyujin/miniforge3/envs/ml/lib/python3.8/site-packages/IPython/core/pylabtools.py:151: UserWarning: Glyph 50557 (\\N{HANGUL SYLLABLE YAG}) missing from current font.\n",
      "  fig.canvas.print_figure(bytes_io, **kw)\n",
      "/Users/gyujin/miniforge3/envs/ml/lib/python3.8/site-packages/IPython/core/pylabtools.py:151: UserWarning: Glyph 52397 (\\N{HANGUL SYLLABLE CEONG}) missing from current font.\n",
      "  fig.canvas.print_figure(bytes_io, **kw)\n",
      "/Users/gyujin/miniforge3/envs/ml/lib/python3.8/site-packages/IPython/core/pylabtools.py:151: UserWarning: Glyph 49884 (\\N{HANGUL SYLLABLE SI}) missing from current font.\n",
      "  fig.canvas.print_figure(bytes_io, **kw)\n",
      "/Users/gyujin/miniforge3/envs/ml/lib/python3.8/site-packages/IPython/core/pylabtools.py:151: UserWarning: Glyph 52488 (\\N{HANGUL SYLLABLE CO}) missing from current font.\n",
      "  fig.canvas.print_figure(bytes_io, **kw)\n"
     ]
    },
    {
     "data": {
      "image/png": "[encoded data removed]",
      "text/plain": [
       "<Figure size 432x288 with 1 Axes>"
      ]
     },
     "metadata": {
      "needs_background": "light"
     },
     "output_type": "display_data"
    }
   ],
   "source": [
    "xgboost.plot_importance(xgb_model)"
   ]
  },
  {
   "cell_type": "code",
   "execution_count": 13,
   "metadata": {},
   "outputs": [
    {
     "data": {
      "text/plain": [
       "array([ 14.914986  ,  43.03278   ,  91.80231   ,  30.238981  ,\n",
       "        -0.57546794,  53.6444    ,  94.85368   ,  44.625538  ,\n",
       "        27.405104  ,  -5.042591  , 105.89659   ,  94.83082   ,\n",
       "        30.415792  ,  -8.162063  ,  44.410984  ,  -9.590999  ,\n",
       "        17.698483  ,  29.560352  ,  54.38128   ,  42.245083  ,\n",
       "        28.437061  ,  14.053684  ,  15.824256  ,  11.393738  ,\n",
       "       -11.930723  ,  92.25876   ,  18.457747  ,  96.46017   ,\n",
       "        57.385468  ,  23.06639   ,  64.26522   ,   6.085275  ,\n",
       "        87.22263   ,  66.01172   ,  80.61292   ,  64.508125  ,\n",
       "        -4.516083  ,  94.759964  ,  79.3002    ,  78.3613    ,\n",
       "        19.43244   ,  81.06044   ,  49.57772   ,  49.57757   ,\n",
       "        26.492573  ,   9.831065  ,  70.3227    , 101.37789   ,\n",
       "        20.81126   ,  -0.2116029 ,  56.002445  ,  38.723736  ,\n",
       "        -0.4916276 ,  81.505684  ,   8.994231  ,  97.16388   ,\n",
       "        31.634937  ,  10.366146  ,  16.93194   ,  85.46653   ,\n",
       "        20.701649  ,  18.526033  ,  73.48188   , 105.455894  ,\n",
       "        96.22162   ,  -1.556366  ,  14.246046  ,  98.30367   ,\n",
       "         6.924685  ,  99.43545   ,   0.2048048 ,  81.13922   ,\n",
       "        92.22273   ,  20.923336  ,  93.2589    ,  58.084667  ,\n",
       "        29.875298  ,  52.067238  ,  48.983047  ,  93.120155  ],\n",
       "      dtype=float32)"
      ]
     },
     "execution_count": 13,
     "metadata": {},
     "output_type": "execute_result"
    }
   ],
   "source": [
    "y_predict = xgb_model.predict(x_test)\n",
    "y_predict"
   ]
  },
  {
   "cell_type": "code",
   "execution_count": 14,
   "metadata": {},
   "outputs": [
    {
     "name": "stdout",
     "output_type": "stream",
     "text": [
      "0.9978014387864986\n",
      "0.7483038500163379\n"
     ]
    }
   ],
   "source": [
    "r_sq = xgb_model.score(x_train, y_train) #r-sq= r2 결정계수\n",
    "print(r_sq)\n",
    "print(explained_variance_score(y_predict,y_test)) # explained variance score = 설명분산점수"
   ]
  },
  {
   "cell_type": "code",
   "execution_count": 15,
   "metadata": {},
   "outputs": [],
   "source": [
    "import matplotlib.pyplot as plt\n",
    "plt.rc('font', family='NanumBarunGothic')\n",
    "plt.rcParams['axes.unicode_minus'] = False"
   ]
  },
  {
   "cell_type": "code",
   "execution_count": 16,
   "metadata": {},
   "outputs": [
    {
     "name": "stderr",
     "output_type": "stream",
     "text": [
      "findfont: Font family ['NanumBarunGothic'] not found. Falling back to DejaVu Sans.\n",
      "findfont: Font family ['NanumBarunGothic'] not found. Falling back to DejaVu Sans.\n"
     ]
    },
    {
     "data": {
      "image/png": "[encoded data removed]",
      "text/plain": [
       "<Figure size 432x288 with 1 Axes>"
      ]
     },
     "metadata": {
      "needs_background": "light"
     },
     "output_type": "display_data"
    }
   ],
   "source": [
    "plt.scatter(y_test, y_predict, alpha = 0.4)\n",
    "plt.xlabel(\"Actual Rent\")\n",
    "plt.ylabel(\"Predicted Rent\")\n",
    "plt.title(\"MULTIPLE LINEAR REGRESSION\")\n",
    "plt.show()"
   ]
  },
  {
   "cell_type": "code",
   "execution_count": 17,
   "metadata": {},
   "outputs": [],
   "source": [
    "from sklearn.metrics import mean_absolute_error\n",
    "mae_test=mean_absolute_error(y_test,y_predict)\n",
    "#수치가 낮을수록 정확도가 높음"
   ]
  },
  {
   "cell_type": "code",
   "execution_count": 18,
   "metadata": {},
   "outputs": [],
   "source": [
    "from sklearn.metrics import mean_squared_error\n",
    "mse_test=mean_squared_error(y_test, y_predict)\n",
    "#수치가 낮을수록 정확도가 높음"
   ]
  },
  {
   "cell_type": "code",
   "execution_count": 19,
   "metadata": {},
   "outputs": [],
   "source": [
    "from sklearn.metrics import r2_score\n",
    "r2_score=r2_score(y_test, y_predict)"
   ]
  },
  {
   "cell_type": "code",
   "execution_count": 20,
   "metadata": {},
   "outputs": [
    {
     "name": "stdout",
     "output_type": "stream",
     "text": [
      "xgboost regression: Mean squared error: 320.376969\n",
      "xgboost regression: Mean_absolute_error: 13.177783\n",
      "xgboost regression: r2_score: 0.797855\n"
     ]
    }
   ],
   "source": [
    "print('xgboost regression: Mean squared error: %f' %(mse_test)) \n",
    "print('xgboost regression: Mean_absolute_error: %f' %(mae_test)) \n",
    "print('xgboost regression: r2_score: %f' %(r2_score)) "
   ]
  },
  {
   "cell_type": "code",
   "execution_count": null,
   "metadata": {},
   "outputs": [],
   "source": []
  }
 ],
 "metadata": {
  "colab": {
   "collapsed_sections": [],
   "name": "New.ipynb",
   "provenance": []
  },
  "kernelspec": {
   "display_name": "ml",
   "language": "python",
   "name": "ml"
  },
  "language_info": {
   "codemirror_mode": {
    "name": "ipython",
    "version": 3
   },
   "file_extension": ".py",
   "mimetype": "text/x-python",
   "name": "python",
   "nbconvert_exporter": "python",
   "pygments_lexer": "ipython3",
   "version": "3.8.13"
  }
 },
 "nbformat": 4,
 "nbformat_minor": 1
}
